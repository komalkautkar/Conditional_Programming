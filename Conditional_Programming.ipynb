{
 "cells": [
  {
   "cell_type": "markdown",
   "id": "0c3384e0",
   "metadata": {},
   "source": [
    "### If-else condition"
   ]
  },
  {
   "cell_type": "code",
   "execution_count": 1,
   "id": "0e841a7e",
   "metadata": {},
   "outputs": [
    {
     "name": "stdout",
     "output_type": "stream",
     "text": [
      "a is greater than b\n"
     ]
    }
   ],
   "source": [
    "a,b=9,5\n",
    "if a>b:\n",
    "    print(\"a is greater than b\")"
   ]
  },
  {
   "cell_type": "code",
   "execution_count": 2,
   "id": "0b9756e4",
   "metadata": {},
   "outputs": [],
   "source": [
    "a,b=5,9\n",
    "if a>b:\n",
    "    print(\"a is greater than b\")\n",
    "  \n",
    "\n",
    "###There is no result here"
   ]
  },
  {
   "cell_type": "code",
   "execution_count": 3,
   "id": "ee7dfe65",
   "metadata": {},
   "outputs": [
    {
     "name": "stdout",
     "output_type": "stream",
     "text": [
      "b is greater than a\n"
     ]
    }
   ],
   "source": [
    "a,b=5,9\n",
    "if a>b:\n",
    "    print(\"a is greater than b\")\n",
    "else:\n",
    "     print(\"b is greater than a\")\n",
    "  \n"
   ]
  },
  {
   "cell_type": "code",
   "execution_count": 4,
   "id": "34fd88cd",
   "metadata": {},
   "outputs": [
    {
     "name": "stdout",
     "output_type": "stream",
     "text": [
      "b is greater than a\n"
     ]
    }
   ],
   "source": [
    "a,b=5,5\n",
    "if a>b:\n",
    "    print(\"a is greater than b\")\n",
    "else:\n",
    "     print(\"b is greater than a\")\n",
    "  \n",
    "### here output is incorrect"
   ]
  },
  {
   "cell_type": "code",
   "execution_count": 6,
   "id": "48bffdc0",
   "metadata": {},
   "outputs": [
    {
     "name": "stdout",
     "output_type": "stream",
     "text": [
      "a is equal to b\n"
     ]
    }
   ],
   "source": [
    "a,b=5,5\n",
    "if a>b:\n",
    "    print(\"a is greater than b\")\n",
    "elif a==b:\n",
    "    print(\"a is equal to b\")\n",
    "else:\n",
    "     print(\"b is greater than a\")\n",
    "  "
   ]
  },
  {
   "cell_type": "markdown",
   "id": "28dfa232",
   "metadata": {},
   "source": [
    "### check the no. is even or odd"
   ]
  },
  {
   "cell_type": "code",
   "execution_count": 7,
   "id": "cd098ce8",
   "metadata": {},
   "outputs": [
    {
     "name": "stdout",
     "output_type": "stream",
     "text": [
      "even\n"
     ]
    }
   ],
   "source": [
    "num=10\n",
    "if num%2==0:\n",
    "   print(\"even\")\n",
    "else:\n",
    "    print(\"odd\")"
   ]
  },
  {
   "cell_type": "code",
   "execution_count": 8,
   "id": "49463ce3",
   "metadata": {},
   "outputs": [
    {
     "name": "stdout",
     "output_type": "stream",
     "text": [
      "Enter a number14\n",
      "even\n"
     ]
    }
   ],
   "source": [
    "num=int(input(\"Enter a number\"))\n",
    "if num%2==0:\n",
    "   print(\"even\")\n",
    "else:\n",
    "    print(\"odd\")"
   ]
  },
  {
   "cell_type": "code",
   "execution_count": 9,
   "id": "a9e50372",
   "metadata": {},
   "outputs": [
    {
     "name": "stdout",
     "output_type": "stream",
     "text": [
      "Enter a number2.7\n",
      "odd\n"
     ]
    }
   ],
   "source": [
    "num=float(input(\"Enter a number\"))\n",
    "if num%2==0:\n",
    "   print(\"even\")\n",
    "else:\n",
    "    print(\"odd\")"
   ]
  },
  {
   "cell_type": "code",
   "execution_count": 12,
   "id": "e660d6b3",
   "metadata": {},
   "outputs": [
    {
     "name": "stdout",
     "output_type": "stream",
     "text": [
      "enter a number:0\n",
      "Positive no.\n"
     ]
    }
   ],
   "source": [
    "num=int(input(\"enter a number:\"))\n",
    "if num>=0:\n",
    "    print(\"Positive no.\")\n",
    "else:\n",
    "    print(\"Negative no.\")"
   ]
  },
  {
   "cell_type": "code",
   "execution_count": 13,
   "id": "d7886c79",
   "metadata": {},
   "outputs": [
    {
     "name": "stdout",
     "output_type": "stream",
     "text": [
      "enter a number:4.9\n",
      "Positive no.\n"
     ]
    }
   ],
   "source": [
    "num=float(input(\"enter a number:\"))\n",
    "if num>=0:\n",
    "    print(\"Positive no.\")\n",
    "else:\n",
    "    print(\"Negative no.\")"
   ]
  },
  {
   "cell_type": "code",
   "execution_count": 15,
   "id": "468444a6",
   "metadata": {},
   "outputs": [
    {
     "name": "stdout",
     "output_type": "stream",
     "text": [
      "enter a number:0\n",
      "zero\n"
     ]
    }
   ],
   "source": [
    "num=int(input(\"enter a number:\"))\n",
    "if num>0:\n",
    "    print(\"Positive no.\")\n",
    "elif num==0:\n",
    "    print(\"zero\")\n",
    "else:\n",
    "    print(\"Negative no.\")"
   ]
  },
  {
   "cell_type": "markdown",
   "id": "a5657855",
   "metadata": {},
   "source": [
    "### write a program to find the maximum value among three numbers"
   ]
  },
  {
   "cell_type": "code",
   "execution_count": 16,
   "id": "91c78816",
   "metadata": {},
   "outputs": [
    {
     "name": "stdout",
     "output_type": "stream",
     "text": [
      "c is maximum\n"
     ]
    }
   ],
   "source": [
    "a,b,c=1,2,3\n",
    "if a>b and a>c:\n",
    "    print(\"a is Maximum\")\n",
    "elif b>c and b>a:\n",
    "    print(\"b is maximum\")\n",
    "else:\n",
    "    print(\"c is maximum\")\n",
    "    "
   ]
  },
  {
   "cell_type": "code",
   "execution_count": 18,
   "id": "3f51520b",
   "metadata": {},
   "outputs": [
    {
     "name": "stdout",
     "output_type": "stream",
     "text": [
      "enter a first number:1\n",
      "enter a second number:2\n",
      "enter a third number:3\n",
      "num3 Maximum\n"
     ]
    }
   ],
   "source": [
    "num1=int(input(\"enter a first number:\"))\n",
    "num2=int(input(\"enter a second number:\"))\n",
    "num3=int(input(\"enter a third number:\"))\n",
    "if num1>num2 and num1>num3:\n",
    "    print(\"num1 Maximum\")\n",
    "elif num2>num1 and num2>num3:\n",
    "    print(\"num2 Maximum\")\n",
    "else:\n",
    "    print(\"num3 Maximum\")\n",
    "    \n",
    "    \n",
    "    \n",
    "\n"
   ]
  },
  {
   "cell_type": "code",
   "execution_count": null,
   "id": "70071444",
   "metadata": {},
   "outputs": [],
   "source": []
  }
 ],
 "metadata": {
  "kernelspec": {
   "display_name": "Python 3 (ipykernel)",
   "language": "python",
   "name": "python3"
  },
  "language_info": {
   "codemirror_mode": {
    "name": "ipython",
    "version": 3
   },
   "file_extension": ".py",
   "mimetype": "text/x-python",
   "name": "python",
   "nbconvert_exporter": "python",
   "pygments_lexer": "ipython3",
   "version": "3.11.5"
  }
 },
 "nbformat": 4,
 "nbformat_minor": 5
}
